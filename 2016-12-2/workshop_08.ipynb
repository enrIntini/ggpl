{
 "cells": [
  {
   "cell_type": "code",
   "execution_count": 422,
   "metadata": {
    "collapsed": false
   },
   "outputs": [],
   "source": [
    "from pyplasm import *\n",
    "import csv\n"
   ]
  },
  {
   "cell_type": "markdown",
   "metadata": {},
   "source": [
    "immagine di riferimento\n",
    "<img src=\"riferimento.jpg\">"
   ]
  },
  {
   "cell_type": "markdown",
   "metadata": {},
   "source": [
    "Pianta vista dall'alto\n",
    "<img src=\"pianta5.png\">"
   ]
  },
  {
   "cell_type": "markdown",
   "metadata": {},
   "source": [
    "<img src=\"pianta3.png\">"
   ]
  },
  {
   "cell_type": "markdown",
   "metadata": {},
   "source": [
    "<img src=\"pianta4.png\">"
   ]
  },
  {
   "cell_type": "markdown",
   "metadata": {},
   "source": [
    "Funzione per generare la porta"
   ]
  },
  {
   "cell_type": "code",
   "execution_count": 423,
   "metadata": {
    "collapsed": false
   },
   "outputs": [],
   "source": [
    "def window(X,Y,Z,occupancy):\n",
    "    def door0(dx,dy,dz):\n",
    "        def door1(cod):\n",
    "            \n",
    "            scX = 0\n",
    "            scY = 0\n",
    "            scZ = 0\n",
    "            for el in X:\n",
    "                scX += el\n",
    "            for el in Y:\n",
    "                scY += el\n",
    "            for el in Z:\n",
    "                scZ += el\n",
    "            scX = dx/scX\n",
    "            scY = dy/scY\n",
    "            scZ = dz/scZ\n",
    "            \n",
    "            structure = CUBOID([0,0,0])\n",
    "            ix = 0\n",
    "            sommaX = 0\n",
    "            \n",
    "            for piano in occupancy:\n",
    "                page = CUBOID([0,0,0])\n",
    "                iz = 0\n",
    "                sommaZ = 0\n",
    "                \n",
    "                for riga in piano:\n",
    "                    tmp = []\n",
    "                    iy = 0\n",
    "                    tuttiNegativi = 1\n",
    "\n",
    "                    for val in riga:\n",
    "                        if val == cod: \n",
    "                            tmp.append(Y[iy]*scY)\n",
    "                            tuttiNegativi = 0\n",
    "                        else: tmp.append(-Y[iy]*scY)\n",
    "\n",
    "                        iy += 1\n",
    "\n",
    "                    if tuttiNegativi == 0:\n",
    "                        #1d\n",
    "                        qy = QUOTE(tmp)\n",
    "                        #2d\n",
    "                        rxy = PROD([QUOTE([X[ix]*scX]), qy])\n",
    "                        #ryz = PROD([qy, QUOTE([Z[iz]])])\n",
    "                        #3d\n",
    "                        row = PROD([rxy, QUOTE([Z[iz]*scZ])])\n",
    "                        #unisco le righe\n",
    "                        page = STRUCT([page, T(3)(sommaZ), row])\n",
    "\n",
    "                    sommaZ += Z[iz]*scZ\n",
    "                    iz += 1\n",
    "\n",
    "                structure = STRUCT([structure, T(1)(sommaX), page])\n",
    "                sommaX += X[ix]*scX\n",
    "                ix += 1\n",
    "\n",
    "            return structure\n",
    "        \n",
    "        cGlass = [210.0/255, 1.0, 1.0]\n",
    "        cFrame = [80.0/255, 40.0/255, .0/255]\n",
    "        frame = COLOR(cFrame)(door1(1))\n",
    "        glass = COLOR(cGlass)(door1(2))\n",
    "        \n",
    "        return STRUCT([T([1,2])([-dx/2, -dy/2]),frame,glass])\n",
    "\n",
    "    return door0\n",
    "\n",
    "#ogni elemento delle righe di occ si riferisce alle y\n",
    "occ1 = [[1,1,1,1,1],[1,0,1,0,1],[1,1,1,1,1],[1,0,1,0,1],[1,1,1,1,1]]\n",
    "occ2 = [[1,1,1,1,1],[1,0,1,0,1],[1,0,1,0,1],[1,0,1,0,1],[1,1,1,1,1]]\n",
    "occ3 = [[1,1,1,1,1],[0,2,1,2,0],[0,2,1,2,0],[0,2,1,2,0],[1,1,1,1,1]]\n",
    "occ4 = [[1,1,1,1,1],[1,0,1,0,1],[1,1,1,1,1],[1,0,1,0,1],[1,1,1,1,1]]\n",
    "occ = [occ1, occ2,occ3, occ4]\n",
    "\n",
    "\n",
    "#VIEW(window([.03,.015,.015,.03],[.1,.3,.05,.3,.1],[.1,.5,.05,.5,.1],occ)(X, Y, Z)"
   ]
  },
  {
   "cell_type": "code",
   "execution_count": 424,
   "metadata": {
    "collapsed": true
   },
   "outputs": [],
   "source": [
    "j = 0\n",
    "with open ('esterni.lines', 'rb') as csvfile:\n",
    "        spamreader = csv.reader(csvfile, delimiter=',', quotechar='|')\n",
    "        for row in spamreader:\n",
    "            punti = []\n",
    "            for val in row:\n",
    "                punti.append(float(val)/20)\n",
    "            if j == 0:\n",
    "                mura = STRUCT([MKPOL([[[punti[0], punti[1], 0], [punti[2], punti[3], 0]],[[1,2]],[[1]]])])\n",
    "                j = 1\n",
    "            else:\n",
    "                mura = STRUCT([mura, MKPOL([[[punti[0], punti[1], 0], [punti[2], punti[3], 0]],[[1,2]],[[1]]])])\n",
    "mura = OFFSET([0.4, 0.4, 3])(mura)\n",
    "#VIEW(mura)"
   ]
  },
  {
   "cell_type": "code",
   "execution_count": 425,
   "metadata": {
    "collapsed": false
   },
   "outputs": [],
   "source": [
    "j = 0\n",
    "with open ('interni.lines', 'rb') as csvfile:\n",
    "        spamreader = csv.reader(csvfile, delimiter=',', quotechar='|')\n",
    "        for row in spamreader:\n",
    "            punti = []\n",
    "            for val in row:\n",
    "                punti.append(float(val)/20)\n",
    "            if j == 0:\n",
    "                muriInterni = STRUCT([MKPOL([[[punti[0], punti[1], 0], [punti[2], punti[3], 0]],[[1,2]],[[1]]])])\n",
    "                j = 1\n",
    "            else:\n",
    "                muriInterni = STRUCT([muriInterni, MKPOL([[[punti[0], punti[1], 0], [punti[2], punti[3], 0]],[[1,2]],[[1]]])])\n",
    "muriInterni = OFFSET([.15, .15, 3])(muriInterni)\n",
    "pianta = STRUCT([mura, T(2)(2.7), muriInterni])"
   ]
  },
  {
   "cell_type": "code",
   "execution_count": 426,
   "metadata": {
    "collapsed": false
   },
   "outputs": [],
   "source": [
    "j = 0\n",
    "with open ('porte.lines', 'rb') as csvfile:\n",
    "        spamreader = csv.reader(csvfile, delimiter=',', quotechar='|')\n",
    "        for row in spamreader:\n",
    "            punti = []\n",
    "            for val in row:\n",
    "                punti.append(float(val)/20)\n",
    "            if j == 0:\n",
    "                porte = STRUCT([MKPOL([[[punti[0], punti[1], 0], [punti[2], punti[3], 0]],[[1,2]],[[1]]])])\n",
    "                j = 1\n",
    "            else:\n",
    "                porte = STRUCT([porte, MKPOL([[[punti[0], punti[1], 0], [punti[2], punti[3], 0]],[[1,2]],[[1]]])])\n",
    "porte = OFFSET([.5, 1, 5])(porte)\n",
    "porte = STRUCT([T(2)(-.05), porte])\n",
    "pianta = DIFF([pianta, porte])\n",
    "#VIEW(pianta)"
   ]
  },
  {
   "cell_type": "code",
   "execution_count": 427,
   "metadata": {
    "collapsed": false
   },
   "outputs": [],
   "source": [
    "j = 0\n",
    "k = 0\n",
    "with open ('finestre.lines', 'rb') as csvfile:\n",
    "        spamreader = csv.reader(csvfile, delimiter=',', quotechar='|')\n",
    "        for row in spamreader:\n",
    "            punti = []\n",
    "            for val in row:\n",
    "                punti.append(float(val)/20)\n",
    "            if j == 1 and abs(punti[0] - punti[2]) < .05:\n",
    "                finestreVerticali = STRUCT([finestreVerticali, MKPOL([[[punti[0], punti[1], 0], [punti[2], punti[3], 0]],[[1,2]],[[1]]])])\n",
    "            if j == 0 and abs(punti[0] - punti[2]) < .05:\n",
    "                finestreVerticali = STRUCT([MKPOL([[[punti[0], punti[1], 0], [punti[2], punti[3], 0]],[[1,2]],[[1]]])])\n",
    "                j = 1\n",
    "            \n",
    "            if k == 1 and abs(punti[1] - punti[3]) < .05:\n",
    "                finestreOrizzontali = STRUCT([finestreOrizzontali, MKPOL([[[punti[0], punti[1], 0], [punti[2], punti[3], 0]],[[1,2]],[[1]]])])\n",
    "            if k == 0 and abs(punti[1] - punti[3]) < .05:\n",
    "                finestreOrizzontali = STRUCT([MKPOL([[[punti[0], punti[1], 0], [punti[2], punti[3], 0]],[[1,2]],[[1]]])])\n",
    "                k = 1\n",
    "finestreVerticali = OFFSET([.8, .01, 1.5])(finestreVerticali)\n",
    "finestreOrizzontali = OFFSET([.01, .8, 1.5])(finestreOrizzontali)\n",
    "finestre = STRUCT([finestreVerticali, finestreOrizzontali])\n",
    "finestre = STRUCT([T([1,2,3])([-.05, -.05, 1]), finestre])\n",
    "#VIEW(STRUCT([pianta, finestre]))\n",
    "pianta = DIFF([pianta, finestre])\n",
    "#VIEW(pianta)"
   ]
  },
  {
   "cell_type": "code",
   "execution_count": null,
   "metadata": {
    "collapsed": true
   },
   "outputs": [],
   "source": [
    "j = 0\n",
    "k = 0\n",
    "with open ('porteInterne.lines', 'rb') as csvfile:\n",
    "        spamreader = csv.reader(csvfile, delimiter=',', quotechar='|')\n",
    "        for row in spamreader:\n",
    "            punti = []\n",
    "            for val in row:\n",
    "                punti.append(float(val)/20)\n",
    "            if j == 1 and abs(punti[0] - punti[2]) < .05:\n",
    "                porteInterneVerticali = STRUCT([porteInterneVerticali, MKPOL([[[punti[0], punti[1], 0], [punti[2], punti[3], 0]],[[1,2]],[[1]]])])\n",
    "            if j == 0 and abs(punti[0] - punti[2]) < .05:\n",
    "                porteInterneVerticali = STRUCT([MKPOL([[[punti[0], punti[1], 0], [punti[2], punti[3], 0]],[[1,2]],[[1]]])])\n",
    "                j = 1\n",
    "            if k == 1 and abs(punti[1] - punti[3]) < .05:\n",
    "                porteInterneOrizzontali = STRUCT([porteInterneOrizzontali, MKPOL([[[punti[0], punti[1], 0], [punti[2], punti[3], 0]],[[1,2]],[[1]]])])\n",
    "            if k == 0 and abs(punti[1] - punti[3]) < .05:\n",
    "                porteInterneOrizzontali = STRUCT([MKPOL([[[punti[0], punti[1], 0], [punti[2], punti[3], 0]],[[1,2]],[[1]]])])\n",
    "                k = 1\n",
    "porteInterneVerticali = OFFSET([.5, .01, 5])(porteInterneVerticali)\n",
    "porteInterneOrizzontali = OFFSET([.01, .5, 5])(porteInterneOrizzontali)\n",
    "porteInterne = STRUCT([porteInterneVerticali, porteInterneOrizzontali])\n",
    "porteInterne = STRUCT([T(2)(-.03), porteInterne])\n",
    "#VIEW(STRUCT([pianta, porteInterne]))\n",
    "pianta = DIFF([pianta, porteInterne])\n",
    "#VIEW(pianta)"
   ]
  },
  {
   "cell_type": "code",
   "execution_count": null,
   "metadata": {
    "collapsed": false
   },
   "outputs": [],
   "source": [
    "#correzione\n",
    "a = [194.0, 537.7]\n",
    "b = [239.3, 537.7]\n",
    "c = [506.9, 535.5]\n",
    "d = [552.0, 535.5]\n",
    "A = CUBOID([(b[0] - a[0])/20 -.05, 2.0, 5.0])\n",
    "C = CUBOID([(d[0] - c[0])/20 -.05, 2.0, 5.0])\n",
    "AB = STRUCT([T([1,2])([a[0]/20 +.3, a[1]/20 -2]), A])\n",
    "AB = STRUCT([AB, T([1,2])([c[0]/20 + .2, d[1]/20 -2]), C])\n",
    "pianta  = DIFF([pianta, AB])"
   ]
  },
  {
   "cell_type": "code",
   "execution_count": null,
   "metadata": {
    "collapsed": false
   },
   "outputs": [],
   "source": [
    "# distinguo le finestre a seconda dell'orientamento\n",
    "j = 0\n",
    "k = 0\n",
    "with open ('finestre.lines', 'rb') as csvfile:\n",
    "        spamreader = csv.reader(csvfile, delimiter=',', quotechar='|')\n",
    "        for row in spamreader:\n",
    "            punti = []\n",
    "            for val in row:\n",
    "                punti.append(float(val)/20)\n",
    "            \n",
    "            #finestre con lunghezza sull'asse x\n",
    "            if j == 0 and abs(punti[1] - punti[3]) < .05:\n",
    "                finestreX = STRUCT([T([1,2,3])([(punti[0]+punti[2])/2, punti[1],1]), R([1,2])(math.pi/2), window([.03,.015,.015,.03],[.1,.3,.05,.3,.1],[.1,.5,.05,.5,.1],occ)(.2, abs(punti[0]-punti[2])+.4, 1.5)])\n",
    "                j = 1\n",
    "                \n",
    "            if j == 1 and abs(punti[1] - punti[3]) < .05:\n",
    "                finestreX = STRUCT([finestreX, T([1,2,3])([(punti[0]+punti[2])/2, punti[1],1]), R([1,2])(math.pi/2), window([.03,.015,.015,.03],[.1,.3,.05,.3,.1],[.1,.5,.05,.5,.1],occ)(.2, abs(punti[0]-punti[2])+.6, 1.5)])\n",
    "                \n",
    "                #finestre con lunghezza sull'asse x\n",
    "            if k == 0 and abs(punti[0] - punti[2]) < .05:\n",
    "                finestreY = STRUCT([T([1,2,3])([punti[0], (punti[1]+punti[3])/2, 1]), window([.03,.015,.015,.03],[.1,.3,.05,.3,.1],[.1,.5,.05,.5,.1],occ)(.2, abs(punti[1]-punti[3])+.4, 1.5)])\n",
    "                k = 1\n",
    "                \n",
    "            if k == 1 and abs(punti[0] - punti[2]) < .05:\n",
    "                finestreY = STRUCT([finestreY, T([1,2,3])([punti[0], (punti[1]+punti[3])/2, 1]), window([.03,.015,.015,.03],[.1,.3,.05,.3,.1],[.1,.5,.05,.5,.1],occ)(.2, abs(punti[1]-punti[3])+.6, 1.5)])\n",
    "\n",
    "finestre= STRUCT([T([1,2])([.05, .05]), finestreX, finestreY])\n",
    "#VIEW(finestre)\n",
    "pianta = STRUCT([pianta, finestre])\n",
    "#VIEW(pianta)"
   ]
  },
  {
   "cell_type": "code",
   "execution_count": null,
   "metadata": {
    "collapsed": false
   },
   "outputs": [],
   "source": [
    "def portaEsterna(x, y):\n",
    "    return STRUCT([COLOR([80.0/255, 40.0/255, .0/255])(CUBOID([abs(x)+.4, abs(y), 3.]))])\n",
    "\n",
    "def portaEsternaV(x, y):\n",
    "    return STRUCT([COLOR([80.0/255, 40.0/255, .0/255])(CUBOID([abs(x), abs(y)+.3, 3.]))])\n",
    "\n",
    "j = 0\n",
    "with open ('porte.lines', 'rb') as csvfile:\n",
    "        spamreader = csv.reader(csvfile, delimiter=',', quotechar='|')\n",
    "        for row in spamreader:\n",
    "            punti = []\n",
    "            for val in row:\n",
    "                punti.append(float(val)/20)\n",
    "            if j == 0:\n",
    "                if punti[0] > punti[2]:\n",
    "                    porte = STRUCT([T([1,2])([(punti[2]), punti[1]]), portaEsterna(punti[0]-punti[2], .04)])\n",
    "                else:\n",
    "                    porte = STRUCT([T([1,2])([(punti[0]), punti[1]]), portaEsterna(punti[0]-punti[2], .04)])\n",
    "                j = 1\n",
    "            else:\n",
    "                if punti[0] > punti[2]:\n",
    "                    porte = STRUCT([porte, T([1,2])([(punti[2]), punti[1]]), portaEsterna(punti[0]-punti[2], .04)])\n",
    "                else:\n",
    "                    porte = STRUCT([porte, T([1,2])([(punti[0]), punti[1]]), portaEsterna(punti[0]-punti[2], .04)])\n",
    "porte = STRUCT([T(1)(.05), porte])\n",
    "pianta = STRUCT([pianta, porte])\n",
    "#VIEW(pianta)"
   ]
  },
  {
   "cell_type": "code",
   "execution_count": null,
   "metadata": {
    "collapsed": false
   },
   "outputs": [],
   "source": [
    "j = 0\n",
    "k = 0\n",
    "with open ('porteInterne.lines', 'rb') as csvfile:\n",
    "        spamreader = csv.reader(csvfile, delimiter=',', quotechar='|')\n",
    "        for row in spamreader:\n",
    "            punti = []\n",
    "            for val in row:\n",
    "                punti.append(float(val)/20)\n",
    "            if j == 1 and abs(punti[0] - punti[2]) < .05:\n",
    "                if punti[1] > punti[3]:\n",
    "                    porteV = STRUCT([porteV, T([1,2])([(punti[0]), punti[3]]), portaEsternaV(.02, punti[1]-punti[3])])\n",
    "                else:\n",
    "                    porteV = STRUCT([porteV, T([1,2])([(punti[0]), punti[1]]), portaEsternaV(.02, punti[1]-punti[3])])\n",
    "            if j == 0 and abs(punti[0] - punti[2]) < .05:\n",
    "                if punti[1] > punti[3]:\n",
    "                    porteV = STRUCT([T([1,2])([(punti[0]), punti[3]]), portaEsternaV(.02, punti[1]-punti[3])])\n",
    "                else:\n",
    "                    porteV = STRUCT([T([1,2])([(punti[0]), punti[1]]), portaEsternaV(.02, punti[1]-punti[3])])\n",
    "                j = 1\n",
    "            if k == 1 and abs(punti[1] - punti[3]) < .05:\n",
    "                if punti[0] > punti[2]:\n",
    "                    porte = STRUCT([porte, T([1,2])([(punti[2]), punti[1]]), portaEsterna(punti[0]-punti[2], .02)])\n",
    "                else:\n",
    "                    porte = STRUCT([porte, T([1,2])([(punti[0]), punti[1]]), portaEsterna(punti[0]-punti[2], .02)])\n",
    "            if k == 0 and abs(punti[1] - punti[3]) < .05:\n",
    "                if punti[0] > punti[2]:\n",
    "                    porte = STRUCT([T([1,2])([(punti[2]), punti[1]]), portaEsterna(punti[0]-punti[2], .02)])\n",
    "                else:\n",
    "                    porte = STRUCT([T([1,2])([(punti[0]), punti[1]]), portaEsterna(punti[0]-punti[2], .02)])\n",
    "                k = 1\n",
    "                \n",
    "porteV = STRUCT([T(1)(.15), porteV])\n",
    "porte = STRUCT([T(2)(.25), porte])\n",
    "pianta = STRUCT([pianta, porte, porteV])\n",
    "VIEW(pianta)"
   ]
  },
  {
   "cell_type": "code",
   "execution_count": null,
   "metadata": {
    "collapsed": false
   },
   "outputs": [],
   "source": []
  }
 ],
 "metadata": {
  "kernelspec": {
   "display_name": "Python 2",
   "language": "python",
   "name": "python2"
  },
  "language_info": {
   "codemirror_mode": {
    "name": "ipython",
    "version": 2
   },
   "file_extension": ".py",
   "mimetype": "text/x-python",
   "name": "python",
   "nbconvert_exporter": "python",
   "pygments_lexer": "ipython2",
   "version": "2.7.12"
  }
 },
 "nbformat": 4,
 "nbformat_minor": 1
}
