{
 "cells": [
  {
   "cell_type": "markdown",
   "metadata": {},
   "source": [
    "#  Esempio di classe di una scuola"
   ]
  },
  {
   "cell_type": "markdown",
   "metadata": {},
   "source": [
    "<img src=\"aula1.png\">\n",
    "<img src=\"aula2.png\">"
   ]
  },
  {
   "cell_type": "code",
   "execution_count": 257,
   "metadata": {
    "collapsed": false
   },
   "outputs": [],
   "source": [
    "from pyplasm import *"
   ]
  },
  {
   "cell_type": "code",
   "execution_count": 258,
   "metadata": {
    "collapsed": false
   },
   "outputs": [],
   "source": [
    "def chair (x,y,z):\n",
    "    sit = COLOR([186.0/255,110.0/255,43.0/255])(CUBOID([x-.1, y, .01]))\n",
    "    legs = MKPOL([[[0,0,0],[0,0,z],[0,0,z/2],[x-.1,0,z/2],[x-.1,0,0]],[[1,2],[3,4],[4,5]],[[1]]])\n",
    "    legs = OFFSET([.025,.025,.025])(legs)\n",
    "    legs = COLOR([180.0/255, 180.0/255, 180.0/255])(STRUCT([legs, T(2)(y-.075), legs]))\n",
    "    t = STRUCT([T([1,3])([.025,z/2+.025]), sit, T([1,2,3])([-.025,.025,-(z/2+.025)]), legs])\n",
    "    t = STRUCT([T([1,2])([-x/2,-y/2]), t])\n",
    "    back = COLOR([186.0/255,110.0/255,43.0/255])(CUBOID([.03, y, z/5]))\n",
    "    t = STRUCT([t, T([1,2,3,])([-x/2+.025,-y/2, z/6*5 -.05]), back])\n",
    "    return t"
   ]
  },
  {
   "cell_type": "code",
   "execution_count": 259,
   "metadata": {
    "collapsed": false
   },
   "outputs": [],
   "source": [
    "def closet (dx,dy,dz,opened):\n",
    "    dx = float(dx)\n",
    "    dy = float(dy)\n",
    "    dz = float(dz)\n",
    "    red = 106.0 / 255\n",
    "    gre = 60.0 / 255\n",
    "    blu = 2.0 / 255\n",
    "    depth = .03\n",
    "    closet = CUBOID([dx-depth,dy-depth,dz-depth])\n",
    "    closet = SKEL_2(closet)\n",
    "    uk = UKPOL(closet)\n",
    "    cells = []\n",
    "        \n",
    "    for cell in uk[1]:\n",
    "        toRemove = TRUE\n",
    "        for index in cell:\n",
    "            point = uk[0][index - 1]\n",
    "            if abs(point[0] - (dx-depth)) > 0.01:\n",
    "                toRemove = FALSE\n",
    "        if toRemove == FALSE:\n",
    "            cells.append(cell)\n",
    "            \n",
    "    closet = MKPOL([uk[0],cells,1])\n",
    "    closet = OFFSET([depth,depth,depth])(closet)\n",
    "    closet = COLOR([red,gre,blu])(closet)\n",
    "    \n",
    "    closedDoor = CUBOID([depth,(dy-2*depth)/2,dz-2*depth])\n",
    "    closedDoor = COLOR([red,gre,blu])(closedDoor)\n",
    "    openedDoor = CUBOID([(dy-2*depth)/2, depth, dz-2*depth])\n",
    "    openedDoor = COLOR([red,gre,blu])(openedDoor)\n",
    "    \n",
    "    handleCD = MKPOL ([[[0,0],[.05,0],[0,.02],[.05,.02],[0,.16],[0,.18],[.05,.16],[.05,.18],[.03,.02],[.03,.16]],[[1,2,3,4],[5,6,7,8],[4,7,9,10]],[1]])\n",
    "    handleCD = COLOR(BLACK)(PROD([handleCD,QUOTE([.02])]))\n",
    "    leftClosedDoor = STRUCT([closedDoor, T([1,2,3])([depth -.005,(dy-2*depth)/2-.30,1]), handleCD])\n",
    "    rightClosedDoor = STRUCT([closedDoor, T([1,2,3])([depth -.005,.12,1]), handleCD])\n",
    "    \n",
    "    handleOD = MKPOL ([[[0,0],[0,.05],[.02,0],[.02,.05],[.16,0],[.18,0],[.16,.05],[.18,.05],[.02,.03],[.16,.03]],[[1,2,3,4],[5,6,7,8],[4,7,9,10]],[1]])\n",
    "    handleOD = COLOR(BLACK)(PROD([handleOD,QUOTE([.02])]))\n",
    "    LhandleOD = MKPOL ([[[0,0],[0,-.05],[.02,0],[.02,-.05],[.16,0],[.18,0],[.16,-.05],[.18,-.05],[.02,-.03],[.16,-.03]],[[1,2,3,4],[5,6,7,8],[4,7,9,10]],[1]])\n",
    "    LhandleOD = COLOR(BLACK)(PROD([LhandleOD,QUOTE([.02])]))\n",
    "    leftOpenedDoor = STRUCT([openedDoor, T([1,2,3])([(dy-2*depth)/2-.30, -.005,1]), LhandleOD])\n",
    "    rightOpenedDoor = STRUCT([openedDoor, T([1,2,3])([(dy-2*depth)/2 - .3, depth -.005,1]), handleOD])\n",
    "    \n",
    "    closedCloset = STRUCT([closet, T([1,2,3])([dx-depth,depth, depth]), leftClosedDoor, T(2)((dy-2*depth)/2), rightClosedDoor])\n",
    "    openedCloset = STRUCT([closet, T([1,2,3])([dx-depth,depth, depth]), leftOpenedDoor, T(2)(dy-3*depth), rightOpenedDoor])\n",
    "    \n",
    "    if opened:\n",
    "        closet = openedCloset\n",
    "    else:\n",
    "        closet = closedCloset\n",
    "        \n",
    "    shelf = CUBOID ([dx-3*depth,dy-2*depth,depth])\n",
    "    shelf = COLOR([red,gre,blu])(shelf)\n",
    "    closet = STRUCT ([closet, T([1,2,3])([depth,depth,(dz-2*depth)/4]), shelf, T(3)((dz-2*depth)/4), shelf, T(3)((dz-2*depth)/4), shelf])\n",
    "\n",
    "    closet = STRUCT([T([1,2])([-dx/2,-dy/2]), closet])\n",
    "    return closet\n",
    "    "
   ]
  },
  {
   "cell_type": "code",
   "execution_count": 260,
   "metadata": {
    "collapsed": false
   },
   "outputs": [],
   "source": [
    "def table (x,y,z, color):\n",
    "    board = COLOR(color)(CUBOID([x, y, .05]))\n",
    "    legs = MKPOL([[[0,0,0],[0,0,z-.1],[x-.15,0,z-.1],[x-.15,0,0],[0,y-.15,0],[0,y-.15,z-.1],[x-.15,y-.15,z-.1],[x-.15,y-.15,0]],[[1,2],[2,3],[3,4],[5,6],[6,7],[7,8],[2,6],[3,7]],[[1]]])\n",
    "    legs = COLOR([180.0/255, 180.0/255, 180.0/255])(OFFSET([.05,.05,.05])(legs))\n",
    "    t = STRUCT([T(3)(z-.05),board,T([1,2,3])([.05,.05,-z+.05]),legs])\n",
    "    return t"
   ]
  },
  {
   "cell_type": "code",
   "execution_count": 261,
   "metadata": {
    "collapsed": true
   },
   "outputs": [],
   "source": [
    "def blackboard (x,y,z):\n",
    "    wood = MKPOL([[[0,0,0],[0,.15,.15],[0,y-.15,.15],[0,y,0],[x,y,0],[x,0,0],[x,.15,.15],[x,y-.15,.15],[0,0,z],[0,.15,z-.15],[x,0,z],[x,.15,z-.15],[0,y,z],[0,y-.15,z-.15],[x,y,z],[x,y-.15,z-.15]],[[1,2,3,4,5,6,7,8],[1,2,6,7,9,10,11,12],[9,10,11,12,13,14,15,16],[3,4,5,8,13,14,15,16]],[[1]]])\n",
    "    board = COLOR(BLACK)(CUBOID([x/2,y-.3,z-.3]))\n",
    "    wood = STRUCT([wood, T([2,3])([.15,.15]),board])\n",
    "    case = CUBOID([.1,y,.05])\n",
    "    wood = STRUCT([wood, T(1)(x-.001), case])\n",
    "    wood = STRUCT([T([1,2])([-x/2,-y/2]),wood])\n",
    "    return wood"
   ]
  },
  {
   "cell_type": "code",
   "execution_count": 262,
   "metadata": {
    "collapsed": true
   },
   "outputs": [],
   "source": [
    "def desk(x,y,z, color):\n",
    "    t = table (x,y,z, color)\n",
    "    c = COLOR(color)(CUBOID([.05,y-.1,z/2]))\n",
    "    t = STRUCT([t, T([1,2,3])([x-.05, .05 ,z/3]), c])\n",
    "    return t"
   ]
  },
  {
   "cell_type": "code",
   "execution_count": 263,
   "metadata": {
    "collapsed": true
   },
   "outputs": [],
   "source": [
    "def classroom():\n",
    "    blkB = [.15,2.3,1.3]\n",
    "    cls = [1.0,2.0,2.0]\n",
    "    walls = SKEL_1(CUBOID([11,9,4]))\n",
    "    clo = STRUCT([R([1,2])(3.1415), closet(cls[0],cls[1],cls[2], TRUE)])\n",
    "    classroom = STRUCT([walls, T([1,2,3])([blkB[0]/2,3.5+blkB[1]/2,1]), blackboard(blkB[0],blkB[1],blkB[2])])\n",
    "    classroom = STRUCT([classroom, T([1,2])([cls[0]/2+10,cls[1]/2+7]), clo])\n",
    "    ch = STRUCT([R([1,2])(3.1415), chair (.5,.45,1.0)])\n",
    "    tc = STRUCT([table(.6, 1.5, .8, [21.0/255, 175.0/255, 62.0/255]), T([1,2])([.6, .4]), ch, T(2)(.75), ch])\n",
    "    tableLine = STRUCT([tc, T(2)(2.2), tc, T(2)(2.2), tc])\n",
    "    for i in range(1,5):\n",
    "        classroom = STRUCT([classroom, T([1,2])([1.3 + 1.8 * i, 1.0]), tableLine])\n",
    "    teacher = STRUCT([desk(.8,1.7,.8, [194.0/255, 169.0/255, 147.0/255]), T([1,2])([-.1, .75]), chair(.55, .5, 1.0)])\n",
    "    classroom = STRUCT([classroom, T([1,2])([1.5, 3.7]), teacher])\n",
    "    return classroom"
   ]
  },
  {
   "cell_type": "code",
   "execution_count": 264,
   "metadata": {
    "collapsed": false,
    "scrolled": true
   },
   "outputs": [
    {
     "data": {
      "text/plain": [
       "<pyplasm.xgepy.Hpc; proxy of <Swig Object of type 'std::shared_ptr< Hpc > *' at 0x000000000B8D7E10> >"
      ]
     },
     "execution_count": 264,
     "metadata": {},
     "output_type": "execute_result"
    }
   ],
   "source": [
    "VIEW (classroom())\n"
   ]
  }
 ],
 "metadata": {
  "kernelspec": {
   "display_name": "Python 2",
   "language": "python",
   "name": "python2"
  },
  "language_info": {
   "codemirror_mode": {
    "name": "ipython",
    "version": 2
   },
   "file_extension": ".py",
   "mimetype": "text/x-python",
   "name": "python",
   "nbconvert_exporter": "python",
   "pygments_lexer": "ipython2",
   "version": "2.7.12"
  }
 },
 "nbformat": 4,
 "nbformat_minor": 1
}
