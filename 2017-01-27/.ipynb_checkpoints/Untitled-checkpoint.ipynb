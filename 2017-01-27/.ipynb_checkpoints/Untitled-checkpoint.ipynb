{
 "cells": [
  {
   "cell_type": "code",
   "execution_count": 9,
   "metadata": {
    "collapsed": false
   },
   "outputs": [],
   "source": [
    "from pyplasm import *\n",
    "\n",
    "#http://globe3d.sourceforge.net/g3d_html/gl-materials__ads.htm"
   ]
  },
  {
   "cell_type": "code",
   "execution_count": 10,
   "metadata": {
    "collapsed": false
   },
   "outputs": [
    {
     "name": "stdout",
     "output_type": "stream",
     "text": [
      "Child 3\n",
      "Child 3\n"
     ]
    },
    {
     "data": {
      "text/plain": [
       "<pyplasm.xgepy.Hpc; proxy of <Swig Object of type 'std::shared_ptr< Hpc > *' at 0x000000000AF48DE0> >"
      ]
     },
     "execution_count": 10,
     "metadata": {},
     "output_type": "execute_result"
    }
   ],
   "source": [
    "punti = []\n",
    "punti.append([[0,0],[4,5],[6,4]])\n",
    "punti.append([[6,4],[8,3],[9,0],[12, -2]])\n",
    "punti.append([[12,-2],[20,4]])\n",
    "#vetro\n",
    "#ambient = [0,0,0,1]\n",
    "#diffuse = [0.588235, 0.670588, 0.729412, .8]\n",
    "#specular = [.9,.9,.9,1]\n",
    "#emission = [ 0,0,0,1]\n",
    "#shininess = [96]\n",
    "\n",
    "ambient = [.0, .0, .0, 1.0]\n",
    "diffuse = [65./255, 68./255, 67./255, 1.0]\n",
    "specular = [0.0425, 0.0425, 0.0425, 1.0]\n",
    "emission = [0,0,0,.3]\n",
    "shininess = [12.8]\n",
    "\n",
    "bezier=[]\n",
    "for r in range(0, 3):\n",
    "    bezier.append(BEZIERSTRIPE([punti[r],0.55,30]))\n",
    "\n",
    "#a = MATERIAL(ambient+diffuse+specular+emission+shininess)(STRUCT(bezier))\n",
    "#a = STRUCT([a, T([1,2])([6,4]), CUBOID([.2, .2, .2])])\n",
    "#VIEW(a)\n",
    "\n",
    "p = SPHERE(1)([24,32])\n",
    "t = CYLINDER([.5, 4.])(50)\n",
    "p2 = SPHERE(.5)([24,32])\n",
    "tot = STRUCT([p, T(2)(1), t, T(3)(4), p2, T(3)(-4), T(2)(1), p])"
   ]
  }
 ],
 "metadata": {
  "kernelspec": {
   "display_name": "Python 2",
   "language": "python",
   "name": "python2"
  },
  "language_info": {
   "codemirror_mode": {
    "name": "ipython",
    "version": 2
   },
   "file_extension": ".py",
   "mimetype": "text/x-python",
   "name": "python",
   "nbconvert_exporter": "python",
   "pygments_lexer": "ipython2",
   "version": "2.7.12"
  }
 },
 "nbformat": 4,
 "nbformat_minor": 1
}
