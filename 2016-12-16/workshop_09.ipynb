{
 "cells": [
  {
   "cell_type": "code",
   "execution_count": 1007,
   "metadata": {
    "collapsed": false
   },
   "outputs": [],
   "source": [
    "from pyplasm import *\n",
    "from math import *\n",
    "\n",
    "def determinante(m):\n",
    "    result = 0\n",
    "    col = 0\n",
    "    if len(m) == 1:\n",
    "        return m[0][0]\n",
    "    for rowEl in m[len(m)-1]:\n",
    "        matrix = []\n",
    "        for cont in range (0, len(m)-1):\n",
    "            tmpRow = []\n",
    "            for el in range (0, len(m)):\n",
    "                if el <> col:\n",
    "                    tmpRow.append(m[cont][el])\n",
    "            matrix.append(tmpRow)\n",
    "        result += pow(-1, (col+len(m)-1))*rowEl*determinante(matrix)\n",
    "        col += 1\n",
    "    return result\n",
    "\n",
    "# ax + by + c = -z\n",
    "# uso la matrice trasposta per comodità\n",
    "def trovaPiano (A, B, C):\n",
    "    m = []\n",
    "    for index in range(0, 3):\n",
    "        row = []\n",
    "        # coefficienti di c\n",
    "        if index == 2: row = [1, 1, 1]\n",
    "        else: row =[A[index], B[index], C[index]]\n",
    "        m.append(row)\n",
    "    D = determinante(m)\n",
    "    ma = [[-A[2], -B[2], -C[2]], m[1], m[2]]\n",
    "    Da = determinante(ma)\n",
    "    mb = [m[0], [-A[2], -B[2], -C[2]], m[2]]\n",
    "    Db = determinante(mb)\n",
    "    mc = [m[0], m[1], [-A[2], -B[2], -C[2]]]\n",
    "    Dc = determinante(mc)\n",
    "    result = [Da/D, Db/D, Dc/D]\n",
    "    return result\n",
    "\n",
    "#trovo i due punti di intersezione tra i piani all'altezza 0 e all'altezza h del tetto\n",
    "def intersezioniPiani(piano1, piano2, h):\n",
    "    # per il piano z = 0 ho due equazioni del tipo x + ay = - c\n",
    "    # ax + by = -c\n",
    "    intersezioni = []\n",
    "    m = [[piano1[0], piano2[0]], [piano1[1], piano2[1]]]\n",
    "    D = determinante(m)\n",
    "    el1 = -piano1[2]\n",
    "    el2 = -piano2[2]\n",
    "    mx1 = [[el1, el2], m[1]]\n",
    "    Dx1 = determinante(mx1)\n",
    "    my1 = [m[0], [el1, el2]]\n",
    "    Dy1 = determinante(my1)\n",
    "    intersezioni.append([Dx1/D, Dy1/D, 0.])\n",
    "    \n",
    "    #per il punto z = h ho due equazioni del tipo x + ay = - c - bh\n",
    "    # ax + by = - c -h\n",
    "    el1 = -piano1[2] - h\n",
    "    el2 = -piano2[2] - h\n",
    "    mx2 = [[el1, el2], m[1]]\n",
    "    Dx2 = determinante(mx2)\n",
    "    my2 = [m[0], [el1, el2]]\n",
    "    Dy2 = determinante(my2)\n",
    "    intersezioni.append([Dx2/D, Dy2/D, h])\n",
    "    \n",
    "    return intersezioni\n",
    "\n",
    "def retta (pt1, pt2):\n",
    "    # y = mx + q\n",
    "    if pt2[0] - pt1[0] != 0:\n",
    "        m = (pt2[1] - pt1[1])/(pt2[0] - pt1[0])\n",
    "        q = pt1[1] - m*pt1[0]\n",
    "        return [m, q]\n",
    "    # ax + by + c = 0 se la retta è verticale\n",
    "    else:\n",
    "        return [1.0, .0, pt1[0]]\n",
    "\n",
    "# y - mx = q\n",
    "# x = k\n",
    "\n",
    "def intersezioneRette(r1, r2):\n",
    "    m1 = []\n",
    "    m2 = []\n",
    "    m3 = []\n",
    "    r = [r1, r2]\n",
    "    for retta in r:\n",
    "        if len(retta[0]) == 2:\n",
    "            m1.append(1.0)\n",
    "            m2.append(-retta[0][0])\n",
    "            m3.append(retta[0][1])\n",
    "        else:\n",
    "            m1.append(.0)\n",
    "            m2.append(retta[0][0])\n",
    "            m3.append(retta[0][2])\n",
    "    m = [m1, m2]\n",
    "    D = determinante(m)\n",
    "    my = [m3, m2]\n",
    "    Dy = determinante(my)\n",
    "    mx = [m1, m3]\n",
    "    Dx = determinante(mx)\n",
    "    if D:\n",
    "        return [Dx/D, Dy/D]\n",
    "    return 0\n",
    "#i punti sono del piano x y\n",
    "#def angoloConcavo (pt1, pt2, pt3):\n",
    "#   m = (pt2[1] - pt1[1])/(pt2[0] - pt1[0])\n",
    "#  q = pt1[1] - m*pt1[0]\n",
    "#    # confronto il terzo punto con la retta ottenuta dai primi due.\n",
    "#    conf = pt3[1] - m*pt3[0] - q\n",
    "#    if conf < 0: return 1\n",
    "#    else: return 0\n",
    "    # da sistemare per comprendere tutti i casi\n",
    "    \n",
    "#def bisettrice(r1, r2):\n",
    "# punti (1, 3) (3,4)\n",
    "# m = .5\n",
    "# yb + zc + d = -x\n"
   ]
  },
  {
   "cell_type": "code",
   "execution_count": 1008,
   "metadata": {
    "collapsed": false
   },
   "outputs": [],
   "source": [
    "#rette = [[[m, q], A, B], [[m, q], B, C]...]\n",
    "\n",
    "#Devo fare in modo che scorra la lista delle rette a partire dalla retta relativa a quell'angolo concavo\n",
    "#appena trova un'intersezione si ferma e ritorna il puno\n",
    "def angoloConcavo (pt1, pt2, pt3, rette):\n",
    "    retteCandidate = []\n",
    "    ok = 0\n",
    "    c = 0\n",
    "    primoCandidato = 0\n",
    "#scorro le rette finché non trovo la prima retta di cui pt2 è il vertice\n",
    "    while not ok:\n",
    "        if not escludiRetta(pt1, pt2, pt3, rette[c]):\n",
    "            c += 1\n",
    "        else:\n",
    "            c += 1\n",
    "            ok = 1\n",
    "    \n",
    "    ok = 0\n",
    "    while not ok:\n",
    "        if c == len(rette):\n",
    "            c = 0\n",
    "        if escludiRetta(pt1, pt2, pt3, rette[c]):\n",
    "            c += 1\n",
    "        else:\n",
    "            ok = 1\n",
    "    ok = 0\n",
    "    while not ok:\n",
    "        if c == len(rette):\n",
    "            c = 0\n",
    "        if not escludiRetta(pt1, pt2, pt3, rette[c]):\n",
    "            retteCandidate.append(rette[c])\n",
    "            c += 1\n",
    "        else:\n",
    "            ok = 1\n",
    "            \n",
    "    r12 = [retta(pt1, pt2)]\n",
    "    for r in retteCandidate:\n",
    "        if not escludiRetta(pt1, pt2, pt3, r):\n",
    "            p = intersezione(r12, r)\n",
    "            if p and intersezioneAccettabile(pt1, pt2, p):\n",
    "                return p\n",
    "    return 0\n",
    "        "
   ]
  },
  {
   "cell_type": "code",
   "execution_count": 1009,
   "metadata": {
    "collapsed": true
   },
   "outputs": [],
   "source": [
    "def intersezioneAccettabile(p1, p2, p3):\n",
    "    if p1[0] > p2[0] and p3[0] > p2[0]:\n",
    "        return 0\n",
    "    if p1[0] < p2[0] and p3[0] < p2[0]:\n",
    "        return 0\n",
    "    if p1[0] == p2[0] and p3[0] != p1[0]:\n",
    "        return 0\n",
    "    if p1[1] > p2[1] and p3[1] > p2[1]:\n",
    "        return 0\n",
    "    if p1[1] < p2[1] and p3[1] < p2[1]:\n",
    "        return 0\n",
    "    if p1[1] == p2[1] and p3[1] != p1[1]:\n",
    "        return 0\n",
    "    return 1"
   ]
  },
  {
   "cell_type": "code",
   "execution_count": 1010,
   "metadata": {
    "collapsed": true
   },
   "outputs": [],
   "source": [
    "def equals(pt1, pt2):\n",
    "    if pt1[0] == pt2[0] and pt1[1] == pt2[1]:\n",
    "        return 1\n",
    "    return 0"
   ]
  },
  {
   "cell_type": "code",
   "execution_count": 1011,
   "metadata": {
    "collapsed": false
   },
   "outputs": [],
   "source": [
    "def escludiRetta (A, B, C, retta):\n",
    "    if equals(retta[1], A) or equals(retta[2], A) or equals(retta[1], B) or equals(retta[2], B):\n",
    "        return 1\n",
    "    return 0"
   ]
  },
  {
   "cell_type": "code",
   "execution_count": 1012,
   "metadata": {
    "collapsed": true
   },
   "outputs": [],
   "source": [
    "#se il punto a è interno al segmento bc\n",
    "def compreso(a, b, c):\n",
    "    if (a[0] <= b[0] and a[0] >= c[0]) or (a[0] >= b[0] and a[0] <= c[0]):\n",
    "        if (a[1] <= b[1] and a[1] >= c[1]) or (a[1] >= b[1] and a[1] <= c[1]):\n",
    "            return 1\n",
    "    return 0"
   ]
  },
  {
   "cell_type": "code",
   "execution_count": 1013,
   "metadata": {
    "collapsed": true
   },
   "outputs": [],
   "source": [
    "#se il punto a è interno al segmento bc\n",
    "def compresoDiverso(a, b, c):\n",
    "    if (a[0] < b[0] and a[0] > c[0]) or (a[0] > b[0] and a[0] < c[0]):\n",
    "        if (a[1] <= b[1] and a[1] >= c[1]) or (a[1] >= b[1] and a[1] <= c[1]):\n",
    "            return 1\n",
    "    if (a[1] < b[1] and a[1] > c[1]) or (a[1] > b[1] and a[1] < c[1]):\n",
    "        if (a[0] <= b[0] and a[0] >= c[0]) or (a[0] >= b[0] and a[0] <= c[0]):\n",
    "            return 1\n",
    "    return 0"
   ]
  },
  {
   "cell_type": "code",
   "execution_count": 1014,
   "metadata": {
    "collapsed": true
   },
   "outputs": [],
   "source": [
    "#restituisce 1 se la seconda retta passata come parametro ha uno dei due estremi in comune con la prima (solo 1!). 0 altrimenti\n",
    "def rettaTrovata(r1, r2):\n",
    "    eq11 = equals(r1[1], r2[1])\n",
    "    eq21 = equals(r1[2], r2[1])\n",
    "    eq12 = equals(r1[1], r2[2])\n",
    "    eq22 = equals(r1[2], r2[2])\n",
    "    if (eq11 and not eq22) or (not eq11 and eq22) or (eq12 and not eq21) or (not eq12 and eq21):\n",
    "        return 1\n",
    "    return 0"
   ]
  },
  {
   "cell_type": "code",
   "execution_count": 1015,
   "metadata": {
    "collapsed": false
   },
   "outputs": [],
   "source": [
    "def ordinaRette (rette):\n",
    "    nuoveRette = []\n",
    "    nuoveRette.append(rette[len(rette)-1])\n",
    "    indiciRetteSelezionate = [0]\n",
    "    for c in range (1, len(rette)):\n",
    "        ok = 0\n",
    "        index = 0\n",
    "        tmp = nuoveRette[len(nuoveRette)-1]\n",
    "        while not ok:\n",
    "            if rettaTrovata(rette[index], tmp) and not rette[index] in nuoveRette:\n",
    "                nuoveRette.append(rette[index])\n",
    "                ok = 1\n",
    "            index += 1\n",
    "    return nuoveRette\n",
    "                "
   ]
  },
  {
   "cell_type": "code",
   "execution_count": 1016,
   "metadata": {
    "collapsed": true
   },
   "outputs": [],
   "source": [
    "def intersezione(r1, r2):\n",
    "    k = intersezioneRette(r1, r2)\n",
    "    if k:\n",
    "        if compreso(k, r2[1], r2[2]):\n",
    "            return k\n",
    "    return 0"
   ]
  },
  {
   "cell_type": "code",
   "execution_count": 1017,
   "metadata": {
    "collapsed": true
   },
   "outputs": [],
   "source": [
    "# vertici concavi = [[px, py],[intx, inty]]\n",
    "# intersezione dei vertici concavi = [[px, py], [cx, cy],[]]\n",
    "#def costruisciPoliedro(punti, rette, intersezioni):\n",
    "    \n",
    "        "
   ]
  },
  {
   "cell_type": "code",
   "execution_count": 1018,
   "metadata": {
    "collapsed": false
   },
   "outputs": [],
   "source": [
    "# l'array punti è composto da 0 per tutti i punti già considerati e eliminati\n",
    "def celleConvesse(pti, cnc):\n",
    "    punti = pti\n",
    "    concavi = cnc\n",
    "    celle = []\n",
    "    c = 0\n",
    "    ttl2 = 30\n",
    "    while c < len(punti):\n",
    "        aggiungi = 0\n",
    "        cella = []\n",
    "        #analizzo un punto per volta (escludo i punti tolti in iterazioni precedente)\n",
    "        tmp = punti[c]\n",
    "        opposto = 0\n",
    "        if tmp:\n",
    "        #vedo se il punto è concavo (cioè è presente nell'array concavi). se è concavo prendo l'intersezione dovuta a quel punto\n",
    "            for cn in concavi:\n",
    "                if equals(cn[0], tmp):\n",
    "                    indiceConcavo = c\n",
    "                    opposto = cn[1]\n",
    "        # scorro tutti i punti da quello concavo fino all'intersezione e, se non ci sono altri concavi in mezzo, salvo la cella\n",
    "            index = c + 1\n",
    "            indiceOpposto = len(punti)\n",
    "            oppostoTrovato = 0\n",
    "            if opposto:\n",
    "                ttl = 20\n",
    "                # cerco l'opposto\n",
    "                while not oppostoTrovato:\n",
    "                    if ttl == 0:\n",
    "                        oppostoTrovato = 1\n",
    "                    if index == len(punti):\n",
    "                        index = 0\n",
    "                    if punti[index]:\n",
    "                        tmp2 = punti[index]\n",
    "                    # se il punto considerato è un concavo cerco il suo opposto\n",
    "                        for cn in concavi:\n",
    "                            if equals(cn[0], tmp2):\n",
    "                                indiceConcavo = index\n",
    "                                opposto = cn[1]\n",
    "                        if equals(opposto, tmp2):\n",
    "                            oppostoTrovato = 1\n",
    "                            indiceOpposto = index\n",
    "                    index += 1\n",
    "                    ttl -= 1\n",
    "\n",
    "                if oppostoTrovato and indiceConcavo < indiceOpposto:\n",
    "                    for r in range (indiceConcavo, indiceOpposto + 1):\n",
    "                        if punti[r]:\n",
    "                            cella.append(r+1)\n",
    "                            # elimino dalla lista dei punti tutti i punti presi per la cella tranne l'opposto\n",
    "                            if r != indiceOpposto:\n",
    "                                punti[r] = 0\n",
    "                if oppostoTrovato and indiceConcavo > indiceOpposto:\n",
    "                    for r in range(indiceConcavo, len(punti)):\n",
    "                        if punti[r]:\n",
    "                            cella.append(r+1)\n",
    "                            # elimino dalla lista dei punti tutti i punti presi per la cella tranne l'opposto\n",
    "                            if r != indiceOpposto:\n",
    "                                punti[r] = 0\n",
    "                        for r in range(0, indiceOpposto + 1):\n",
    "                            if punti[r]:\n",
    "                                cella.append(r+1)\n",
    "                                # elimino dalla lista dei punti tutti i punti presi per la cella tranne l'opposto\n",
    "                                if r != indiceOpposto:\n",
    "                                    punti[r] = 0\n",
    "            \n",
    "            if len(cella) > 0:\n",
    "                celle.append(cella)\n",
    "                c = 0\n",
    "            if len(cella) == 0: \n",
    "                c += 1\n",
    "        ttl2 -= 1\n",
    "        if ttl2 == 0:\n",
    "            c = 100000\n",
    "    \n",
    "    cella = []\n",
    "    for r in range (0, len(punti)):\n",
    "        if punti[r]:\n",
    "            cella.append(r+1)\n",
    "        \n",
    "    if len(cella) > 0:\n",
    "        celle.append(cella)\n",
    "        \n",
    "    return celle"
   ]
  },
  {
   "cell_type": "code",
   "execution_count": 1019,
   "metadata": {
    "collapsed": false
   },
   "outputs": [],
   "source": [
    "def disegna1D (rette):\n",
    "    punti = []\n",
    "    vertici = []\n",
    "    for r in rette:\n",
    "        punti.append(r[1])\n",
    "    for c in range(1, len(punti)+1):\n",
    "        if c == len(punti):\n",
    "            vertici.append([c, 1])\n",
    "        else:\n",
    "            vertici.append([c, c+1])\n",
    "    return MKPOL([punti, vertici,[[1]]])"
   ]
  },
  {
   "cell_type": "code",
   "execution_count": 1020,
   "metadata": {
    "collapsed": false
   },
   "outputs": [],
   "source": [
    "def disegnaPiano(rette):\n",
    "    punti = []\n",
    "    intersezioniConcavi = []\n",
    "    puntiIntersezioni = []\n",
    "    for r in rette:\n",
    "        punti.append(r[1])\n",
    "    for c in range(0, len(punti)):\n",
    "        if c == 0:\n",
    "            tmp = angoloConcavo(punti[len(punti)-1], punti[0], punti[1], rette)\n",
    "        if c == len(punti) - 1:\n",
    "            tmp = angoloConcavo(punti[len(punti)-2],punti[len(punti)-1], punti[0], rette)\n",
    "        if c > 0 and c < len(punti)-1:\n",
    "            tmp = angoloConcavo(punti[c-1],punti[c], punti[c+1], rette)\n",
    "        if tmp:\n",
    "            intersezioniConcavi.append([punti[c], tmp])\n",
    "\n",
    "    puntiFinali = []\n",
    "    for r in rette:\n",
    "        puntiIntersezioni.append(r[1])\n",
    "        puntiFinali.append(r[1])\n",
    "        for i in intersezioniConcavi:\n",
    "            if len(r[0]) == 2 and abs(i[1][1] - r[0][0]*i[1][0] - r[0][1]) < 0.000001 and compresoDiverso(i[1], r[1], r[2]):\n",
    "                puntiIntersezioni.append(i[1])\n",
    "                puntiFinali.append(i[1])\n",
    "            if len(r[0]) == 3 and abs(i[1][0] - r[0][2]) < 0.000001 and compresoDiverso(i[1], r[1], r[2]):\n",
    "                puntiIntersezioni.append(i[1])\n",
    "                puntiFinali.append(i[1])\n",
    "    \n",
    "    celle = celleConvesse(puntiIntersezioni, intersezioniConcavi)\n",
    "    disegno = MKPOL([puntiFinali, celle, [[1]]])\n",
    "    return disegno\n",
    "#devo iniziare a dividere la figura in vari poligoni convessi e disegnarli uno a uno\n",
    "    \n",
    "            "
   ]
  },
  {
   "cell_type": "code",
   "execution_count": 1021,
   "metadata": {
    "collapsed": false
   },
   "outputs": [],
   "source": [
    "r1 = [[.0,.0],[.0,.0],[2.,.0]]\n",
    "r2 = [[-1., 2.],[2.,.0],[4.,-2.]]\n",
    "r3 = [[1., .0, 4.],[4.,-2.],[4.,2.]]\n",
    "r4 = [[.5, .0], [4.,2.],[.0,.0]]\n",
    "r = [r4, r2, r1, r3]\n",
    "rette = ordinaRette(r)\n",
    "dis = disegna1D(rette)\n",
    "#VIEW(disegnaPiano(rette))"
   ]
  },
  {
   "cell_type": "code",
   "execution_count": 1022,
   "metadata": {
    "collapsed": false
   },
   "outputs": [],
   "source": [
    "r1 = [[.0,.0],[.0,.0],[2.,.0]]\n",
    "r2 = [[-2.,4.],[2.,.0],[3.,-2.]]\n",
    "r3 = [[2.,-8.],[3.,-2.],[2.,-4.]]\n",
    "r4 = [[1.,-6.],[2.,-4.],[4.,-2.]]\n",
    "r5 = [[1., .0, 4.],[4.,-2.],[4.,0.]]\n",
    "r6 = [[-1.,4.],[4.,.0],[2.,2.]]\n",
    "r7 = [[1.,0.],[2.,2.],[.0,.0]]\n",
    "r = [r4, r6, r2, r5, r3, r7, r1]\n",
    "rette = ordinaRette(r)\n",
    "#VIEW(disegnaPiano(rette))"
   ]
  },
  {
   "cell_type": "code",
   "execution_count": 1023,
   "metadata": {
    "collapsed": false
   },
   "outputs": [],
   "source": [
    "def disegnaTetto():\n",
    "    p1 = [.0, .0, .0]\n",
    "    p2 = [3., 0., 0.]\n",
    "    p3 = [6., -2., .0]\n",
    "    p4 = [8., 3., .0]\n",
    "    p5 = [4., 3., .0]\n",
    "    p6 = [1., 1., 3.]\n",
    "    p7 = [4., 1., 3.]\n",
    "    p8 = [6., -1., 3.]\n",
    "    p9 = [7., 2., 3.]\n",
    "    p10 = [5., 2., 3.]\n",
    "    piano1 = trovaPiano(p1, p2, p6)\n",
    "    piano2 = trovaPiano(p2, p3, p7)\n",
    "    piano3 = trovaPiano(p3, p4, p8)\n",
    "    piano4 = trovaPiano(p4, p5, p9)\n",
    "    piano5 = trovaPiano(p5, p1, p10)\n",
    "    i1 = intersezioniPiani(piano1, piano2, 3.)\n",
    "    i2 = intersezioniPiani(piano2, piano3, 3.)\n",
    "    i3 = intersezioniPiani(piano3, piano4, 3.)\n",
    "    i4 = intersezioniPiani(piano5, piano4, 3.)\n",
    "    i5 = intersezioniPiani(piano1, piano5, 3.)\n",
    "    i = [i1, i2, i3, i4, i5]\n",
    "    pti = []\n",
    "    tettoia = []\n",
    "    for el in i:\n",
    "        tettoia.append(el[1])\n",
    "        for p in el:\n",
    "            pti.append(p)\n",
    "\n",
    "    pol = [[1,2,3,4],[3,4,5,6],[5,6,7,8],[7,8,9,10],[9,10,1,2]]\n",
    "    d = MKPOL([pti, pol, [[1]]])\n",
    "\n",
    "    rette = []\n",
    "    for r in range (0, len(tettoia)):\n",
    "        tmp = []\n",
    "        if r == len(tettoia) - 1:\n",
    "            tmp.append(retta(tettoia[r], tettoia[0]))\n",
    "            tmp.append([tettoia[r][0], tettoia[r][1]])\n",
    "            tmp.append([tettoia[0][0], tettoia[0][1]])\n",
    "        else:\n",
    "            tmp.append(retta(tettoia[r], tettoia[r+1]))\n",
    "            tmp.append([tettoia[r][0], tettoia[r][1]])\n",
    "            tmp.append([tettoia[r+1][0], tettoia[r+1][1]])\n",
    "        rette.append(tmp)\n",
    "\n",
    "    ordinate = ordinaRette(rette)\n",
    "    t = disegnaPiano(ordinate)\n",
    "    tot = STRUCT([d, T(3)(3.), t])\n",
    "    return tot"
   ]
  },
  {
   "cell_type": "code",
   "execution_count": 1024,
   "metadata": {
    "collapsed": false
   },
   "outputs": [
    {
     "name": "stdout",
     "output_type": "stream",
     "text": [
      "[[3.666666666666666, 1.0], [3.9999999999999996, 1.0], [6.2105263157894735, -0.47368421052631543], [6.800000000000001, 1.0], [7.2, 2.0], [4.999999999999999, 2.0]]\n"
     ]
    },
    {
     "data": {
      "text/plain": [
       "<pyplasm.xgepy.Hpc; proxy of <Swig Object of type 'std::shared_ptr< Hpc > *' at 0x000000001472A9C0> >"
      ]
     },
     "execution_count": 1024,
     "metadata": {},
     "output_type": "execute_result"
    }
   ],
   "source": [
    "VIEW(disegnaTetto())"
   ]
  }
 ],
 "metadata": {
  "kernelspec": {
   "display_name": "Python 2",
   "language": "python",
   "name": "python2"
  },
  "language_info": {
   "codemirror_mode": {
    "name": "ipython",
    "version": 2
   },
   "file_extension": ".py",
   "mimetype": "text/x-python",
   "name": "python",
   "nbconvert_exporter": "python",
   "pygments_lexer": "ipython2",
   "version": "2.7.12"
  }
 },
 "nbformat": 4,
 "nbformat_minor": 1
}
