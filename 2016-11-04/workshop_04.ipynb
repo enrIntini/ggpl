{
 "cells": [
  {
   "cell_type": "markdown",
   "metadata": {},
   "source": [
    "# Function for roofs"
   ]
  },
  {
   "cell_type": "code",
   "execution_count": 72,
   "metadata": {
    "collapsed": false
   },
   "outputs": [],
   "source": [
    "from math import *\n",
    "from pyplasm import *"
   ]
  },
  {
   "cell_type": "markdown",
   "metadata": {},
   "source": [
    "Funzione per eliminare gli errori dai punti "
   ]
  },
  {
   "cell_type": "code",
   "execution_count": 73,
   "metadata": {
    "collapsed": false
   },
   "outputs": [],
   "source": [
    "def noError (number):\n",
    "    if number%0.0001 == 0.0:\n",
    "        return number\n",
    "    tmp = number*10000\n",
    "    if tmp%1 >= .9:\n",
    "        tmp = ceil(tmp)\n",
    "    else:\n",
    "        tmp = floor(tmp)\n",
    "    return tmp/10000\n"
   ]
  },
  {
   "cell_type": "markdown",
   "metadata": {},
   "source": [
    "Funzione per verificare che il punto passato come parametro esiste nella lista"
   ]
  },
  {
   "cell_type": "code",
   "execution_count": 74,
   "metadata": {
    "collapsed": true
   },
   "outputs": [],
   "source": [
    "def pointExists (point, pointsList):\n",
    "    i = 0\n",
    "    for p in pointsList:\n",
    "        if abs(p[0] - point[0]) < 0.0001 and abs(p[1] - point[1]) < 0.0001 and abs(p[2] - point[2]) < 0.0001:\n",
    "            return i\n",
    "        i += 1\n",
    "    return -1"
   ]
  },
  {
   "cell_type": "markdown",
   "metadata": {
    "collapsed": false
   },
   "source": [
    "Funzione per il tetto. Aggiungo un parametro per l'offset (per gestirlo a seconda delle dimensioni del tetto)"
   ]
  },
  {
   "cell_type": "code",
   "execution_count": 75,
   "metadata": {
    "collapsed": false
   },
   "outputs": [],
   "source": [
    "def roof (points, cells, offset):\n",
    "    #roof2D_0 = MKPOL([[(0,0,0),(10,0,0),(10,10,0),(0,10,0),(10,3,5),(10,7,5)], [[1,5,2],[2,5,6,3],[3,6,4],[4,6,5,1]],1])\n",
    "    #piramide = MKPOL([[(0,0,0),(10,0,0),(10,10,0),(0,10,0),(5,5,5)],[[1,2,3,4,5]],1])\n",
    "    fullRoof = MKPOL([points, cells, 1])\n",
    "    #roofPieno = MKPOL([[[0,0,0],[2,0,0],[2,4,0],[0,4,0],[1,1,1],[1,3,1]],[[1,2,3,4,5,6]],1])\n",
    "    #VIEW(piramide)\n",
    "    sk2 = SKEL_2(fullRoof)\n",
    "    uk = UKPOL(sk2)\n",
    "    uk_0 = uk[0]\n",
    "\n",
    "    listaPunti = []\n",
    "    for val in uk[0]:\n",
    "        if val[2] != 0:\n",
    "            uk_0.append([val[0], val[1], 0])\n",
    "    for val in uk_0:\n",
    "        esiste = 0\n",
    "        for l in listaPunti:\n",
    "            if abs(val[0] - l[0]) < 0.0001 and abs(val[1] - l[1]) < 0.0001 and abs(val[2] - l[2]) < 0.0001 or val[0]%0.0001 != 0 and val[1]%0.0001 != 0 and val[2]%0.0001 != 0:\n",
    "                esiste = 1\n",
    "        if esiste != 1:\n",
    "            listaPunti.append(val)\n",
    "    #print listaPunti\n",
    "\n",
    "    newPoints = []\n",
    "    newCells = []\n",
    "    for cell in uk[1]:\n",
    "        tmp = []\n",
    "        for index in cell:\n",
    "            point = uk[0][index-1]\n",
    "            point[0] = noError(point[0])\n",
    "            point[1] = noError(point[1])\n",
    "            point[2] = noError(point[2])\n",
    "            i = pointExists(point, newPoints)\n",
    "            if i > -1:\n",
    "                tmp.append(i+1)\n",
    "            else:\n",
    "                newPoints.append(point)\n",
    "                tmp.append(len(newPoints))\n",
    "            if abs(point[2]) > 0.0001:\n",
    "                newP = [point[0],point[1],0]\n",
    "                j = pointExists(newP, newPoints)\n",
    "                if j > -1:\n",
    "                    tmp.append(j+1)\n",
    "                else:\n",
    "                    newPoints.append(newP)\n",
    "                    tmp.append(len(newPoints))\n",
    "        newCells.append(tmp)\n",
    "\n",
    "    print newPoints\n",
    "    print newCells\n",
    "    b = MKPOL([newPoints, newCells, 1])\n",
    "    \n",
    "    skb = SKEL_1(b)\n",
    "    roof = OFFSET(offset)(skb)\n",
    "    #roof = OFFSET([.4,.4,.8])(skb)\n",
    "    \n",
    "    #skb = SKEL_2(b)\n",
    "    #roof = skb\n",
    "    return roof\n",
    "    #DIM(a)\n",
    "    #VIEW(a)"
   ]
  },
  {
   "cell_type": "markdown",
   "metadata": {},
   "source": [
    "Esempio di un tetto semplice\n",
    "<img src=\"tetto semplice.png\">"
   ]
  },
  {
   "cell_type": "code",
   "execution_count": 76,
   "metadata": {
    "collapsed": false
   },
   "outputs": [],
   "source": [
    "points = [[0,0,0],[2,0,0],[2,4,0],[0,4,0],[1,1,1],[1,3,1]]\n",
    "cells = [[1,2,3,4,5,6]]\n",
    "offset = [.1,.1,.2]\n",
    "#VIEW(roof(points, cells, offset))"
   ]
  },
  {
   "cell_type": "markdown",
   "metadata": {},
   "source": [
    "Esempio di un tetto con due celle convesse\n",
    "<img src=\"tetto doppio.png\">"
   ]
  },
  {
   "cell_type": "code",
   "execution_count": 77,
   "metadata": {
    "collapsed": false
   },
   "outputs": [],
   "source": [
    "points = [[0,0,0],[2,0,0],[1,1,2],[0,6,0],[2,4,0],[6,4,0],[6,6,0],[1,5,2],[5,5,2]]\n",
    "cells =[[1,2,3,4,5,8],[4,5,6,7,8,9]]\n",
    "offset = [.1,.1,.2]\n",
    "#VIEW(roof(points, cells, offset))"
   ]
  },
  {
   "cell_type": "code",
   "execution_count": 78,
   "metadata": {
    "collapsed": false
   },
   "outputs": [
    {
     "name": "stdout",
     "output_type": "stream",
     "text": [
      "[[2.0, -0.0, 0.0], [1.0, 1.0, 2.0], [1.0, 1.0, 0], [0.0, -0.0, 0.0], [1.0, 5.0, 2.0], [1.0, 5.0, 0], [0.0, 6.0, 0.0], [2.0, 4.0, -0.0], [5.0, 5.0, 4.0], [5.0, 5.0, 0], [6.0, 6.0, -0.0], [6.0, 4.0, -0.0], [1.0, 5.0, 4.0]]\n",
      "[[1, 2, 3, 4], [4, 2, 3, 5, 6, 7], [5, 6, 7, 8], [1, 2, 3, 5, 6, 8], [4, 1, 8, 7], [9, 10, 11, 12], [13, 6, 9, 10, 11, 7], [8, 13, 6, 7], [12, 9, 10, 13, 6, 8], [12, 8, 7, 11]]\n"
     ]
    },
    {
     "data": {
      "text/plain": [
       "<pyplasm.xgepy.Hpc; proxy of <Swig Object of type 'std::shared_ptr< Hpc > *' at 0x000000000BCA2330> >"
      ]
     },
     "execution_count": 78,
     "metadata": {},
     "output_type": "execute_result"
    }
   ],
   "source": [
    "points = [[0,0,0],[2,0,0],[1,1,2],[0,6,0],[2,4,0],[6,4,0],[6,6,0],[1,5,2],[5,5,4],[1,5,4]]\n",
    "cells =[[1,2,3,4,5,8],[4,5,6,7,10,9]]\n",
    "offset = [.1,.1,.2]\n",
    "VIEW(roof(points, cells, offset))"
   ]
  },
  {
   "cell_type": "code",
   "execution_count": 79,
   "metadata": {
    "collapsed": false
   },
   "outputs": [],
   "source": [
    "h = 3\n",
    "h2 = 4\n",
    "points = [[0,0,0],[0,10,0],[6,0,0],\n",
    "          [10,0,0],[16,0,0],[6,2,0],\n",
    "          [10,2,0],[3,2,h],[3,4,h],\n",
    "          [4,6,h2],[11,6,h2],[13,4,h],\n",
    "          [13,2,h],[12,7,h2],[12,8,h2],\n",
    "          [16,11,0],[8,11,0],[8,10,0],\n",
    "          [0,2,0],[16,2,0],[8,2,0]]\n",
    "cells = [[1,3,8],[1,19,9,8],[3,6,9,8],[19,2,10,9],[2,10,11,18],[]]\n",
    "offset = [.1,.1,.2]\n",
    "#cells = [[1,3,8,9,6,19],[4,5,20,12,13,7],[2,19,6,9,21,11,18,10]]\n",
    "#VIEW (roof(points,cells, offset))"
   ]
  },
  {
   "cell_type": "markdown",
   "metadata": {},
   "source": [
    "Esempio di un tetto composto da più elementi\n",
    "<img src=\"https://conceptdraw.com/a333c4/p1/preview/640/pict--landscape-design-garden-hotel-site-plan.png--diagram-flowchart-example.png\">\n",
    "<img src=\"tetto composito.png\">"
   ]
  },
  {
   "cell_type": "code",
   "execution_count": 80,
   "metadata": {
    "collapsed": false
   },
   "outputs": [],
   "source": [
    "h0 = 3\n",
    "h1 = 3\n",
    "h2 = 2*h1\n",
    "points = [[4,0,0],[28,0,0],[28,16,0],[4,16,0],[12,8,h2],[20,8,h2],\n",
    "          [0,4,0],[4,4,0],[0,12,0],[4,12,0],[4,8,h1],[8,8,h1],\n",
    "          [11,16,0],[11,22,0],[21,22,0],[21,16,0],[16,12,h1],[16,18,h1]]\n",
    "cells =[[1,2,3,4,5,6],[7,8,9,10,11,12],[13,14,15,16,17,18]]\n",
    "p = [[28,4,0],[28,12,0],[32,12,0],[32,4,0],[28,8,h0]]\n",
    "c = [[1,2,3,4,5]]\n",
    "offset = [.1,.1,.2]\n",
    "#VIEW(STRUCT([roof(p,c,offset), T(3)(6), roof(points,cells, offset)]))"
   ]
  },
  {
   "cell_type": "markdown",
   "metadata": {},
   "source": [
    "Prova di un tetto ricavato da una base ottagonale"
   ]
  },
  {
   "cell_type": "code",
   "execution_count": null,
   "metadata": {
    "collapsed": false
   },
   "outputs": [],
   "source": [
    "l = 4\n",
    "t = (l/2)*sqrt(2)\n",
    "h = 6*l\n",
    "pt = [[l,0,0], [t, -t,0],[0,-l,0],[-t, -t,0],[-l,0,0], [-t, t,0], [0,l,0], [t, t,0], [0,0,h]]\n",
    "for p in pt:\n",
    "    p[0] += l\n",
    "    p[1] += l\n",
    "    \n",
    "cl = [[1,2,3,4,5,6,7,8,9]]\n",
    "offset = [.1,.1,.2]\n",
    "#VIEW(roof(pt,cl, offset))"
   ]
  },
  {
   "cell_type": "markdown",
   "metadata": {},
   "source": [
    "Esempio di una struttura complessa, ispirato a Notre Dame\n",
    "<img src=\"NDame skel1.png\">"
   ]
  },
  {
   "cell_type": "code",
   "execution_count": null,
   "metadata": {
    "collapsed": false
   },
   "outputs": [],
   "source": [
    "l = 10\n",
    "t = (l/2)*sqrt(2)\n",
    "h = 3*l\n",
    "offset = [.4,.4,.8]\n",
    "htorre = 30\n",
    "tower = [[l,0],[t, -t],[0,-l],[-t, -t],[-l,0],[-t, t],[0,l],[t, t]]\n",
    "tetto = [[l,0,0],[t, -t,0],[0,-l,0],[-t, -t,0],[-l,0,0],[-t, t,0],[0,l,0],[t, t,0],[0,0,h]]\n",
    "celle = [[1,2,3,4,5,6,7,8,9]]\n",
    "for p in tower:\n",
    "    p[0] += l\n",
    "    p[1] += l\n",
    "torre = MKPOL ([tower, [[1,2,3,4,5,6,7,8]],1])\n",
    "torre = PROD ([torre,QUOTE([htorre])])\n",
    "torre = OFFSET ([.8,.8,.8])(SKEL_1(torre))\n",
    "\n",
    "base = OFFSET([.8,.8,.8])(SKEL_1(CUBOID ([20,20,70])))\n",
    "torreCentrale = STRUCT([torre, T([1,2,3])([l,l,htorre]), roof(tetto, celle, offset)])\n",
    "torreCentrale = STRUCT([base, T(3)(70), torreCentrale])\n",
    "\n",
    "torreQuadrata = CUBOID([20,20,90])\n",
    "torreQuadrata = OFFSET([.8,.8,.8])(SKEL_1(torreQuadrata))\n",
    "\n",
    "#torri\n",
    "l = 8\n",
    "t = (l/2)*sqrt(2)\n",
    "h = 4\n",
    "tetto = [[l,0,0],[t, -t,0],[0,-l,0],[-t, -t,0],[-l,0,0],[-t, t,0],[0,l,0],[t, t,0],[0,0,h]]\n",
    "celle = [[1,2,3,4,5,6,7,8,9]]\n",
    "for p in tetto:\n",
    "    p[0] += 10\n",
    "    p[1] += 10\n",
    "cupolaTorre = roof(tetto,celle, offset)\n",
    "torre_lato = STRUCT([torreQuadrata, T(3)(90),cupolaTorre])\n",
    "torre_lato = STRUCT([torre_lato, T(2)(40), torre_lato])\n",
    "\n",
    "#edificio\n",
    "ed = OFFSET([.8,.8,.8])(SKEL_1(CUBOID ([140,20,50])))\n",
    "ed2 = OFFSET([.8,.8,.8])(SKEL_1(CUBOID ([20,80,50])))\n",
    "edificio = STRUCT([T(2)(30),ed])\n",
    "edificio = STRUCT([edificio, T(1)(70),ed2])\n",
    "\n",
    "#tetto traslo lungo y di 10 inizialmente\n",
    "ptTetto = [[20,20,0],[20,40,0],[20,30,20],[90,20,0],[90,30,20],[90,40,0],\n",
    "           [100,40,20],[90,70,0],[100,70,20],[110,70,0],[110,40,0],\n",
    "           [110,30,20],[160,40,0],[150,30,20],[160,20,0], [110,20,0],\n",
    "           [100,20,20],[110,-10,0],[100,-10,20],[90,-10,0]]\n",
    "clTetto = [[1,2,3,4,5,6],[6,7,8,9,10,11],[11,12,13,14,15,16],[16,17,18,19,20,4]]\n",
    "for val in ptTetto:\n",
    "    val[1] += 10\n",
    "tettoEd = roof(ptTetto,clTetto, offset)\n",
    "\n",
    "tot = STRUCT([edificio, T([1,2])([70,30]), torreCentrale])\n",
    "tot = STRUCT([torre_lato, T([1,2])([20,-10]), tot])\n",
    "tot = STRUCT([tot,T([2,3])([-10,50]),tettoEd])\n",
    "#VIEW(tot)"
   ]
  },
  {
   "cell_type": "code",
   "execution_count": null,
   "metadata": {
    "collapsed": true
   },
   "outputs": [],
   "source": []
  },
  {
   "cell_type": "code",
   "execution_count": null,
   "metadata": {
    "collapsed": true
   },
   "outputs": [],
   "source": []
  }
 ],
 "metadata": {
  "kernelspec": {
   "display_name": "Python 2",
   "language": "python",
   "name": "python2"
  },
  "language_info": {
   "codemirror_mode": {
    "name": "ipython",
    "version": 2
   },
   "file_extension": ".py",
   "mimetype": "text/x-python",
   "name": "python",
   "nbconvert_exporter": "python",
   "pygments_lexer": "ipython2",
   "version": "2.7.12"
  }
 },
 "nbformat": 4,
 "nbformat_minor": 1
}
