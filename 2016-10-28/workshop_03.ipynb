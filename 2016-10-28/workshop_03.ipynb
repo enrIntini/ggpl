{
 "cells": [
  {
   "cell_type": "markdown",
   "metadata": {},
   "source": [
    "# One run Two handRails stairs"
   ]
  },
  {
   "cell_type": "markdown",
   "metadata": {},
   "source": [
    "<img src=\"http://www.newsmobile.in/wp-content/uploads/2016/07/stair-safety.jpg\">"
   ]
  },
  {
   "cell_type": "markdown",
   "metadata": {},
   "source": [
    "Importo le librerie"
   ]
  },
  {
   "cell_type": "code",
   "execution_count": 434,
   "metadata": {
    "collapsed": true
   },
   "outputs": [],
   "source": [
    "from pyplasm import * \n",
    "from larlib import *"
   ]
  },
  {
   "cell_type": "markdown",
   "metadata": {},
   "source": [
    "Funzione di supporto per il corrimano"
   ]
  },
  {
   "cell_type": "code",
   "execution_count": 435,
   "metadata": {
    "collapsed": true
   },
   "outputs": [],
   "source": [
    "def handRail(dy, dz):\n",
    "    rail = MKPOL([[[0,.8],[0,.84],[.4,.8],[.4,.84],[.4+dy,.8+dz],[.4+dy,.84+dz],[dy,.8+dz],[dy,.84+dz]],[[1,2,3,4],[5,6,7,8],[3,4,7,8]],1])\n",
    "    rail = PROD([QUOTE([.1]),rail])\n",
    "    return rail"
   ]
  },
  {
   "cell_type": "markdown",
   "metadata": {},
   "source": [
    "Funzione muro"
   ]
  },
  {
   "cell_type": "code",
   "execution_count": 436,
   "metadata": {
    "collapsed": true
   },
   "outputs": [],
   "source": [
    "def wall(x,dy,dz):\n",
    "    return CUBOID([x,dy,dz])"
   ]
  },
  {
   "cell_type": "markdown",
   "metadata": {},
   "source": [
    "Funzione piattaforma"
   ]
  },
  {
   "cell_type": "code",
   "execution_count": 437,
   "metadata": {
    "collapsed": true
   },
   "outputs": [],
   "source": [
    "def landing(dx, y, z):\n",
    "    return CUBOID([dx,y,z])"
   ]
  },
  {
   "cell_type": "markdown",
   "metadata": {},
   "source": [
    "Funzione scale"
   ]
  },
  {
   "cell_type": "code",
   "execution_count": 438,
   "metadata": {
    "collapsed": false
   },
   "outputs": [],
   "source": [
    "def stairs(dx,dy,dz):\n",
    "    n = dy/.25\n",
    "    n -= n%1\n",
    "    treadStep = dy/n\n",
    "    riserStep = dz/n\n",
    "    firstStep = CUBOID([dx,treadStep,riserStep])\n",
    "    step = MKPOL([[[0,0],[0,riserStep*2],[treadStep,riserStep*2],[treadStep,riserStep]],[[1,2,3,4]],1])\n",
    "    step = PROD([QUOTE([dx]), step])\n",
    "    stairs = [firstStep, T(2)(treadStep), step] \n",
    "    for c in range(2,int(n)):\n",
    "        stairs.append(T([2,3])([treadStep, riserStep]))\n",
    "        stairs.append(step)\n",
    "\n",
    "    return STRUCT(stairs)\n"
   ]
  },
  {
   "cell_type": "markdown",
   "metadata": {},
   "source": [
    "Funzione per unire gli elementi"
   ]
  },
  {
   "cell_type": "code",
   "execution_count": 439,
   "metadata": {
    "collapsed": false
   },
   "outputs": [],
   "source": [
    "def complete(dx,dy,dz):\n",
    "    stair = stairs(dx,dy,dz)\n",
    "    n = dy/.25\n",
    "    n -= n%1\n",
    "    treadStep = dy/n\n",
    "    complete = STRUCT([stair, T([2])([-treadStep]),handRail(dy,dz), T([1])([dx-.1]), handRail(dy,dz)])\n",
    "    x = .1\n",
    "    complete = STRUCT([wall(x,dy+2,dz+2), T(1)(x), complete, T(1)(dx), wall(x,dy+2,dz+2)])\n",
    "    return complete\n",
    "\n",
    "#VIEW(complete(2.5, 3, 2.5))"
   ]
  },
  {
   "cell_type": "markdown",
   "metadata": {},
   "source": [
    "### Esempio 1: x = 2.1; y = 4.1; z = 3"
   ]
  },
  {
   "cell_type": "markdown",
   "metadata": {},
   "source": [
    "VIEW(complete(2.1, 4.1, 3))\n",
    "<img src=\"ex1scale.jpg\">"
   ]
  },
  {
   "cell_type": "markdown",
   "metadata": {},
   "source": [
    "### Esempio 2: x = 2.5; y = 3; z = 2.5"
   ]
  },
  {
   "cell_type": "markdown",
   "metadata": {},
   "source": [
    "VIEW(complete(2.5,3,2.5))\n",
    "<img src=\"ex2scale.jpg\">"
   ]
  },
  {
   "cell_type": "code",
   "execution_count": 440,
   "metadata": {
    "collapsed": true
   },
   "outputs": [],
   "source": [
    "def ggpl_one_run_two_handRail_stairs (dx,dy,dz):\n",
    "    return complete(dx,dy,dz)"
   ]
  },
  {
   "cell_type": "markdown",
   "metadata": {},
   "source": [
    "# Stairs with more runs"
   ]
  },
  {
   "cell_type": "markdown",
   "metadata": {},
   "source": [
    "<img src=\"https://upload.wikimedia.org/wikipedia/commons/3/39/Indiana_World_War_Memorial_stairs_-_Stierch.jpg\">\n",
    "<img src=\"ex3scale.jpg\">"
   ]
  },
  {
   "cell_type": "code",
   "execution_count": 441,
   "metadata": {
    "collapsed": false
   },
   "outputs": [],
   "source": [
    "def moreRunStairs (dx, dy, dz):\n",
    "    runs = 1\n",
    "    n = dz/.2\n",
    "    if n%1 == 0:\n",
    "        print \"intero\"\n",
    "    else:\n",
    "        n += (1-n%1)\n",
    "    print n\n",
    "    nTot = n\n",
    "    treadStep = dy/n\n",
    "    riserStep = dz/n\n",
    "    print n*.25\n",
    "    if dy < n*.25:\n",
    "        return stairs(dx,dy,dz)\n",
    "    while n > 15:\n",
    "        runs += 1\n",
    "        n -= 15\n",
    "    \n",
    "    yDifference = dy - nTot*.25\n",
    "    print yDifference\n",
    "    yLanding = yDifference / (runs-1)\n",
    "    landingStep = landing(dx, yLanding, riserStep)\n",
    "    stair = []\n",
    "    #scale\n",
    "    stair.append(stairs(dx, n*.25,n*.2))\n",
    "    #corrimano\n",
    "    stair.append(T([2])([-treadStep]))\n",
    "    stair.append(handRail(n*.25,n*.2))\n",
    "    stair.append(T([1])([dx-.1]))\n",
    "    stair.append(handRail(n*.25,n*.2))\n",
    "    stair.append(T([1,2])([-dx+.1,treadStep]))\n",
    "    #pianerottolo\n",
    "    stair.append(T([2,3])([n*.25,(n-1)*.2]))\n",
    "    stair.append(landingStep)\n",
    "    stair.append(T(2)(yLanding))\n",
    "\n",
    "    for i in range (1, runs):\n",
    "        stair.append(stairs(dx, 15*.25,15*.2))\n",
    "        stair.append(T([2,3])([-treadStep,i*.2]))\n",
    "        stair.append(handRail(15*.25,15*.2))\n",
    "        stair.append(T([1])([dx-.1]))\n",
    "        stair.append(handRail(15*.25,15*.2))\n",
    "        stair.append(T([1,2,3])([-dx+.1,treadStep,-i*.2]))\n",
    "        stair.append(T([2,3])([15*.25, (14)*.2]))\n",
    "        stair.append(landingStep)\n",
    "        stair.append(T(2)(yLanding))\n",
    "    stair = STRUCT(stair)\n",
    "    return stair\n"
   ]
  },
  {
   "cell_type": "code",
   "execution_count": 442,
   "metadata": {
    "collapsed": false
   },
   "outputs": [
    {
     "name": "stdout",
     "output_type": "stream",
     "text": [
      "intero\n",
      "60.0\n",
      "15.0\n",
      "2.4\n"
     ]
    },
    {
     "data": {
      "text/plain": [
       "<pyplasm.xgepy.Hpc; proxy of <Swig Object of type 'std::shared_ptr< Hpc > *' at 0x000000001AF0F720> >"
      ]
     },
     "execution_count": 442,
     "metadata": {},
     "output_type": "execute_result"
    }
   ],
   "source": [
    "def ggpl_stairs_with_more_runs(dx,dy,dz):\n",
    "    stairs = moreRunStairs(dx,dy,dz)\n",
    "    struct = []\n",
    "    struct.append(wall(.1,dy,dz))\n",
    "    struct.append(T(1)(.1))\n",
    "    struct.append(stairs)\n",
    "    struct.append(T(1)(dx))\n",
    "    struct.append(wall(.1,dy,dz))\n",
    "    struct = STRUCT(struct)\n",
    "    return struct\n",
    "\n",
    "VIEW(ggpl_stairs_with_more_runs(3, 17.4,12))"
   ]
  }
 ],
 "metadata": {
  "kernelspec": {
   "display_name": "Python 2",
   "language": "python",
   "name": "python2"
  },
  "language_info": {
   "codemirror_mode": {
    "name": "ipython",
    "version": 2
   },
   "file_extension": ".py",
   "mimetype": "text/x-python",
   "name": "python",
   "nbconvert_exporter": "python",
   "pygments_lexer": "ipython2",
   "version": "2.7.12"
  }
 },
 "nbformat": 4,
 "nbformat_minor": 1
}
